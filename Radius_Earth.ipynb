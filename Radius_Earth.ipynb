{
 "cells": [
  {
   "cell_type": "code",
   "execution_count": 1,
   "metadata": {
    "ExecuteTime": {
     "end_time": "2019-01-30T20:07:04.449465Z",
     "start_time": "2019-01-30T20:07:03.257129Z"
    }
   },
   "outputs": [],
   "source": [
    "# import packages\n",
    "import numpy as np\n",
    "import matplotlib.pyplot as plt\n",
    "from scipy.optimize import curve_fit\n",
    "import seaborn as sns\n",
    "sns.set()"
   ]
  },
  {
   "cell_type": "code",
   "execution_count": 2,
   "metadata": {
    "ExecuteTime": {
     "end_time": "2019-01-30T20:28:12.789549Z",
     "start_time": "2019-01-30T20:28:12.784316Z"
    }
   },
   "outputs": [],
   "source": [
    "def chi_square_red(x, y, yerr, modelfunc, p_opt):\n",
    "    # Reduced Chi Squared Reading. It Outputs value for accuracy of Fit. Should be near 1\n",
    "    # INPUT: x( x variable as an array), y ( y variable as an array)\n",
    "        # yerr( array of same length as y, as value, not as percentage), modelfunc( a previously defined fit function)\n",
    "        # p_opt ( the parameters of the fit function. If you output fitting as an array labeled fit, this would be fit[1]\n",
    "    # OUTPUT chired (a float that is X^2 )\n",
    "    numerator = (y - modelfunc(x, *p_opt)) ** 2 # numerator in formula \n",
    "    denominator = yerr ** 2                     # denominator in formula \n",
    "    chi = sum(numerator / denominator)          # X^2 itself\n",
    "    chired = chi / (len(y) - len(p_opt))       # reduces it by number of points versus number of parameters\n",
    "    return chired\n",
    "def fitting(function,xdata,ydata,  guess,sigma = 0):\n",
    "    # Fit Function, is basically just a wrapper of scipy.curve_fit but gives me how I like it\n",
    "    # INPUT function(same as modelfunc above, the function you fit data to)\n",
    "        # xdata( x data as array), ydata( y data as an array)   \n",
    "        # guess( array of guess for parameters) sigma( define array of errors if you have them)\n",
    "    # OUTPUT 3 things, a 20 array of the fit, the parameters, and covariance matrix\n",
    "    if type(sigma) is int:\n",
    "        fit_opt, fit_cov = curve_fit(function,xdata,ydata, p0=guess)\n",
    "    else:\n",
    "        fit_opt, fit_cov = curve_fit(function,xdata,ydata, p0=guess, sigma = sigma, absolute_sigma = True)\n",
    "    return function(np.linspace(np.min(xdata), np.max(xdata),20),*fit_opt), fit_opt, fit_cov "
   ]
  },
  {
   "cell_type": "code",
   "execution_count": 5,
   "metadata": {
    "ExecuteTime": {
     "end_time": "2019-01-30T20:30:52.465572Z",
     "start_time": "2019-01-30T20:30:52.455104Z"
    }
   },
   "outputs": [],
   "source": [
    "gravity_data = np.loadtxt('gravity.csv', delimiter= ',', usecols=(0,1), unpack = True)"
   ]
  },
  {
   "cell_type": "markdown",
   "metadata": {},
   "source": [
    "### Formula Used\n",
    "$$ R =  \\frac{-2 g \\Delta R  } { \\Delta g } $$"
   ]
  },
  {
   "cell_type": "code",
   "execution_count": 10,
   "metadata": {
    "ExecuteTime": {
     "end_time": "2019-01-30T21:29:57.908061Z",
     "start_time": "2019-01-30T21:29:57.904174Z"
    }
   },
   "outputs": [],
   "source": [
    "## Generating Constants\n",
    "gravity_constant = 980.665 # gravitational force in gals\n",
    "floor_size = 395           # 395cm given in lab manual\n",
    "k = 0.10023/1000          # constant given on dial, converted from milligals to gal"
   ]
  },
  {
   "cell_type": "code",
   "execution_count": 11,
   "metadata": {
    "ExecuteTime": {
     "end_time": "2019-01-30T21:29:58.492721Z",
     "start_time": "2019-01-30T21:29:58.485922Z"
    }
   },
   "outputs": [],
   "source": [
    "gravity_data[0] = gravity_data[0]*k\n",
    "gravity_data[1] = gravity_data[1]*k"
   ]
  },
  {
   "cell_type": "code",
   "execution_count": 7,
   "metadata": {
    "ExecuteTime": {
     "end_time": "2019-01-30T20:32:55.829359Z",
     "start_time": "2019-01-30T20:32:55.582835Z"
    },
    "scrolled": false
   },
   "outputs": [
    {
     "data": {
      "text/plain": [
       "<matplotlib.collections.PathCollection at 0x7fefb4902438>"
      ]
     },
     "execution_count": 7,
     "metadata": {},
     "output_type": "execute_result"
    },
    {
     "data": {
      "image/png": "[encoded data removed]",
      "text/plain": [
       "<Figure size 648x648 with 1 Axes>"
      ]
     },
     "metadata": {
      "needs_background": "light"
     },
     "output_type": "display_data"
    }
   ],
   "source": [
    "x_axis = np.linspace(0,14,15)\n",
    "plt.figure(figsize = (9,9))\n",
    "plt.scatter(x_axis,gravity_data[0])\n",
    "plt.scatter(x_axis,gravity_data[1])\n"
   ]
  },
  {
   "cell_type": "code",
   "execution_count": null,
   "metadata": {},
   "outputs": [],
   "source": []
  }
 ],
 "metadata": {
  "kernelspec": {
   "display_name": "Python 3",
   "language": "python",
   "name": "python3"
  },
  "language_info": {
   "codemirror_mode": {
    "name": "ipython",
    "version": 3
   },
   "file_extension": ".py",
   "mimetype": "text/x-python",
   "name": "python",
   "nbconvert_exporter": "python",
   "pygments_lexer": "ipython3",
   "version": "3.7.1"
  },
  "varInspector": {
   "cols": {
    "lenName": 16,
    "lenType": 16,
    "lenVar": 40
   },
   "kernels_config": {
    "python": {
     "delete_cmd_postfix": "",
     "delete_cmd_prefix": "del ",
     "library": "var_list.py",
     "varRefreshCmd": "print(var_dic_list())"
    },
    "r": {
     "delete_cmd_postfix": ") ",
     "delete_cmd_prefix": "rm(",
     "library": "var_list.r",
     "varRefreshCmd": "cat(var_dic_list()) "
    }
   },
   "types_to_exclude": [
    "module",
    "function",
    "builtin_function_or_method",
    "instance",
    "_Feature"
   ],
   "window_display": false
  }
 },
 "nbformat": 4,
 "nbformat_minor": 2
}
