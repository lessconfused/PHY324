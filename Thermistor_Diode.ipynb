{
 "cells": [
  {
   "cell_type": "code",
   "execution_count": 114,
   "metadata": {
    "ExecuteTime": {
     "end_time": "2019-01-20T23:40:31.196622Z",
     "start_time": "2019-01-20T23:40:31.184749Z"
    }
   },
   "outputs": [],
   "source": [
    "# import packages\n",
    "import numpy as np\n",
    "import matplotlib.pyplot as plt\n",
    "from scipy.optimize import curve_fit\n",
    "import seaborn as sns\n",
    "sns.set()"
   ]
  },
  {
   "cell_type": "code",
   "execution_count": 115,
   "metadata": {
    "ExecuteTime": {
     "end_time": "2019-01-20T23:40:31.614527Z",
     "start_time": "2019-01-20T23:40:31.604912Z"
    }
   },
   "outputs": [],
   "source": [
    "def Steinhart_Hart(x,a,b,c,d):\n",
    "    constant = -273.15\n",
    "    return 1/(a+b*np.log(x)+c*np.log(x)**2+d*np.log(x)**3) + constant\n",
    "def Shockley(x,I,t):\n",
    "    # fit for saturation current and temperature\n",
    "    q = 1.6*10**(-19)  # electric charge in Coloumbs\n",
    "    k = 1.3807*10**(-23) # Boltzman Constant in Joules\n",
    "    \n",
    "def chi_square_red(x, y, yerr, modelfunc, p_opt):\n",
    "    # Reduced Chi Squared Reading. It Outputs value for accuracy of Fit. Should be near 1\n",
    "    numerator = (y - modelfunc(x, *p_opt)) ** 2\n",
    "    denominator = yerr ** 2\n",
    "    chi = sum(numerator / denominator)\n",
    "    chired = chi / (len(y) - len(p_opt))\n",
    "    return chired\n",
    "def fitting(function,xdata,ydata,  guess,sigma = 0):\n",
    "    if type(sigma) is int:\n",
    "        fit_opt, fit_cov = curve_fit(function,xdata,ydata, p0=guess)\n",
    "    else:\n",
    "        fit_opt, fit_cov = curve_fit(function,xdata,ydata, p0=guess, sigma = sigma, absolute_sigma = True)\n",
    "    return function(np.linspace(np.min(xdata), np.max(xdata),20),*fit_opt), fit_opt, fit_cov \n"
   ]
  },
  {
   "cell_type": "code",
   "execution_count": 116,
   "metadata": {
    "ExecuteTime": {
     "end_time": "2019-01-20T23:40:31.990008Z",
     "start_time": "2019-01-20T23:40:31.985010Z"
    },
    "scrolled": false
   },
   "outputs": [],
   "source": [
    "## Load in Thermistor Data. First Column in Temperature in C, then 3 resistance readings in Ohms\n",
    "thermo_data = np.loadtxt('thermistor.csv', delimiter=',', usecols=(0,1,2,3), unpack=True)"
   ]
  },
  {
   "cell_type": "code",
   "execution_count": 117,
   "metadata": {
    "ExecuteTime": {
     "end_time": "2019-01-20T23:40:32.529887Z",
     "start_time": "2019-01-20T23:40:32.526270Z"
    }
   },
   "outputs": [],
   "source": [
    "### Data Manipulation \n",
    "temp = thermo_data[0]+273.15  # Convert to Kelvin\n",
    "resist = np.mean(thermo_data[1:3], 0)   # average each 3 resistance values"
   ]
  },
  {
   "cell_type": "code",
   "execution_count": 118,
   "metadata": {
    "ExecuteTime": {
     "end_time": "2019-01-20T23:40:33.144745Z",
     "start_time": "2019-01-20T23:40:33.137798Z"
    }
   },
   "outputs": [],
   "source": [
    "yerr = np.repeat(3,len(temp))\n",
    "xerr = np.repeat(0.01, len(resist))"
   ]
  },
  {
   "cell_type": "code",
   "execution_count": 120,
   "metadata": {
    "ExecuteTime": {
     "end_time": "2019-01-20T23:40:42.262200Z",
     "start_time": "2019-01-20T23:40:42.032643Z"
    },
    "scrolled": false
   },
   "outputs": [
    {
     "data": {
      "image/png": "[encoded data removed]",
      "text/plain": [
       "<Figure size 576x576 with 1 Axes>"
      ]
     },
     "metadata": {},
     "output_type": "display_data"
    }
   ],
   "source": [
    "plt.figure(figsize = (8,8))\n",
    "plt.scatter(resist, temp) \n",
    "init = (3.4*10**-3, 2*10**-4, 0.79*10**-4, 6.53*10**-5)\n",
    "fit = fitting(Steinhart_Hart,resist,temp,guess =init, sigma = yerr)\n",
    "plt.plot(np.linspace(np.min(resist), np.max(resist),20),fit[0], c = 'r')\n",
    "plt.errorbar(resist, temp, yerr=yerr, xerr=xerr, fmt='o', ecolor='g', capthick=2)\n",
    "plt.title('Hartman Relation Graph')\n",
    "plt.xlabel(r'Resistance $\\Omega$')\n",
    "plt.ylabel('Temperature (K)')\n",
    "perr = np.sqrt(np.diag(fit[2]))\n"
   ]
  },
  {
   "cell_type": "code",
   "execution_count": 121,
   "metadata": {
    "ExecuteTime": {
     "end_time": "2019-01-20T23:40:43.677298Z",
     "start_time": "2019-01-20T23:40:43.664842Z"
    }
   },
   "outputs": [
    {
     "name": "stdout",
     "output_type": "stream",
     "text": [
      "Coefficents  [ 1.76438858e-03  7.58599758e-05 -1.95326461e-05 -8.85917967e-06]\n",
      "errors [7.21746779e-06 3.36427404e-06 3.78538275e-06 1.16594789e-06]\n",
      "7.843820387641758\n"
     ]
    }
   ],
   "source": [
    "print('Coefficents ', fit[1] )\n",
    "print('errors', perr )\n",
    "print(chi_square_red(resist,temp, yerr,Stinehart_Hart, fit[1]))"
   ]
  },
  {
   "cell_type": "code",
   "execution_count": 124,
   "metadata": {
    "ExecuteTime": {
     "end_time": "2019-01-20T23:41:03.002736Z",
     "start_time": "2019-01-20T23:41:01.285616Z"
    }
   },
   "outputs": [
    {
     "name": "stdout",
     "output_type": "stream",
     "text": [
      "What Did the Ohmmeter Say? 2.0\n",
      "Your Temperature 280.98 K!\n"
     ]
    }
   ],
   "source": [
    "resistance = float(input(\"What Did the Ohmmeter Say? \"))\n",
    "temp_val = Steinhart_Hart(resistance, *fit[1])\n",
    "print('Your Temperature ' + np.str(np.round(temp_val,2)) + ' K!')"
   ]
  },
  {
   "cell_type": "markdown",
   "metadata": {},
   "source": [
    "### DIODE CODE"
   ]
  },
  {
   "cell_type": "code",
   "execution_count": 139,
   "metadata": {
    "ExecuteTime": {
     "end_time": "2019-01-21T00:13:49.467741Z",
     "start_time": "2019-01-21T00:13:49.458580Z"
    }
   },
   "outputs": [],
   "source": [
    "diode_data = np.loadtxt('forward_diode.csv', delimiter=',', usecols=(0,1), unpack=True)"
   ]
  },
  {
   "cell_type": "code",
   "execution_count": 140,
   "metadata": {
    "ExecuteTime": {
     "end_time": "2019-01-21T00:13:49.791088Z",
     "start_time": "2019-01-21T00:13:49.785442Z"
    }
   },
   "outputs": [],
   "source": [
    "current = diode_data[0]/1000 # convert from milli to normal\n",
    "voltage = diode_data[1]\n",
    "yerr = np.repeat(0.5/1000,len(current))"
   ]
  },
  {
   "cell_type": "code",
   "execution_count": 141,
   "metadata": {
    "ExecuteTime": {
     "end_time": "2019-01-21T00:13:50.051310Z",
     "start_time": "2019-01-21T00:13:50.043649Z"
    }
   },
   "outputs": [],
   "source": [
    "def Shockley_Diode(V,a,b):\n",
    "    charge = 0.16*10**-19\n",
    "    return a*np.exp(charge*V/b)"
   ]
  },
  {
   "cell_type": "code",
   "execution_count": 142,
   "metadata": {
    "ExecuteTime": {
     "end_time": "2019-01-21T00:13:50.520438Z",
     "start_time": "2019-01-21T00:13:50.271652Z"
    }
   },
   "outputs": [
    {
     "data": {
      "text/plain": [
       "Text(0.5, 0, 'Voltage')"
      ]
     },
     "execution_count": 142,
     "metadata": {},
     "output_type": "execute_result"
    },
    {
     "data": {
      "image/png": "[encoded data removed]",
      "text/plain": [
       "<Figure size 576x576 with 1 Axes>"
      ]
     },
     "metadata": {},
     "output_type": "display_data"
    }
   ],
   "source": [
    "plt.figure(figsize = (8,8))\n",
    "plt.scatter(voltage,current)\n",
    "init = (100, 10*10**-19)\n",
    "fit = fitting(Shockley_Diode,voltage,current,guess =init, sigma = yerr)\n",
    "plt.plot(np.linspace(np.min(voltage), np.max(voltage),20), fit[0], c = 'r')\n",
    "plt.title('Hartman Relation Graph')\n",
    "plt.ylabel('Current')\n",
    "plt.xlabel('Voltage')"
   ]
  },
  {
   "cell_type": "code",
   "execution_count": 143,
   "metadata": {
    "ExecuteTime": {
     "end_time": "2019-01-21T00:14:40.026720Z",
     "start_time": "2019-01-21T00:14:40.018750Z"
    }
   },
   "outputs": [],
   "source": [
    "diode_data = np.loadtxt('backward_diode.csv', delimiter=',', usecols=(0,1), unpack=True)"
   ]
  },
  {
   "cell_type": "code",
   "execution_count": 144,
   "metadata": {
    "ExecuteTime": {
     "end_time": "2019-01-21T00:14:41.056009Z",
     "start_time": "2019-01-21T00:14:41.044704Z"
    }
   },
   "outputs": [],
   "source": [
    "current = diode_data[0]/1000 # convert from milli to normal\n",
    "voltage = diode_data[1]\n",
    "yerr = np.repeat(0.005/1000,len(current))"
   ]
  },
  {
   "cell_type": "code",
   "execution_count": 153,
   "metadata": {
    "ExecuteTime": {
     "end_time": "2019-01-21T00:16:15.680371Z",
     "start_time": "2019-01-21T00:16:15.442102Z"
    }
   },
   "outputs": [
    {
     "data": {
      "text/plain": [
       "Text(0.5, 0, 'Voltage')"
      ]
     },
     "execution_count": 153,
     "metadata": {},
     "output_type": "execute_result"
    },
    {
     "data": {
      "image/png": "[encoded data removed]",
      "text/plain": [
       "<Figure size 576x576 with 1 Axes>"
      ]
     },
     "metadata": {},
     "output_type": "display_data"
    }
   ],
   "source": [
    "plt.figure(figsize = (8,8))\n",
    "plt.scatter(voltage,current)\n",
    "plt.ylim(-0.00005,0.00005)\n",
    "init = (.1, 10*10**-20)\n",
    "fit = fitting(Shockley_Diode,voltage,current,guess =init, sigma = yerr)\n",
    "plt.plot(np.linspace(np.min(voltage), np.max(voltage),20), fit[0], c = 'r')\n",
    "plt.title('Hartman Relation Graph')\n",
    "plt.ylabel('Current')\n",
    "plt.xlabel('Voltage')"
   ]
  },
  {
   "cell_type": "code",
   "execution_count": null,
   "metadata": {},
   "outputs": [],
   "source": []
  }
 ],
 "metadata": {
  "kernelspec": {
   "display_name": "Python 3",
   "language": "python",
   "name": "python3"
  },
  "language_info": {
   "codemirror_mode": {
    "name": "ipython",
    "version": 3
   },
   "file_extension": ".py",
   "mimetype": "text/x-python",
   "name": "python",
   "nbconvert_exporter": "python",
   "pygments_lexer": "ipython3",
   "version": "3.7.1"
  },
  "varInspector": {
   "cols": {
    "lenName": 16,
    "lenType": 16,
    "lenVar": 40
   },
   "kernels_config": {
    "python": {
     "delete_cmd_postfix": "",
     "delete_cmd_prefix": "del ",
     "library": "var_list.py",
     "varRefreshCmd": "print(var_dic_list())"
    },
    "r": {
     "delete_cmd_postfix": ") ",
     "delete_cmd_prefix": "rm(",
     "library": "var_list.r",
     "varRefreshCmd": "cat(var_dic_list()) "
    }
   },
   "types_to_exclude": [
    "module",
    "function",
    "builtin_function_or_method",
    "instance",
    "_Feature"
   ],
   "window_display": false
  }
 },
 "nbformat": 4,
 "nbformat_minor": 2
}
