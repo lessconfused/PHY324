{
 "cells": [
  {
   "cell_type": "code",
   "execution_count": 1,
   "metadata": {
    "ExecuteTime": {
     "end_time": "2019-01-15T16:14:34.372554Z",
     "start_time": "2019-01-15T16:14:33.327114Z"
    }
   },
   "outputs": [],
   "source": [
    "import numpy as np\n",
    "import matplotlib.pyplot as plt\n",
    "from scipy.optimize import curve_fit\n",
    "import seaborn as sns\n",
    "sns.set()"
   ]
  },
  {
   "cell_type": "code",
   "execution_count": 2,
   "metadata": {
    "ExecuteTime": {
     "end_time": "2019-01-15T16:18:32.977264Z",
     "start_time": "2019-01-15T16:18:32.971316Z"
    }
   },
   "outputs": [],
   "source": [
    "def Stinehart_Hart(x,a,b,c,d):\n",
    "    constant = -273.15\n",
    "    return 1/(a+b*np.log(x)+c*np.log(x)**2+d*np.log(x)**3) + constant\n",
    "def Shockley(x,I,t)\n",
    "    # fit for saturation current and temperature\n",
    "    q = 1.6*10**(-19)  # electric charge in Coloumbs\n",
    "    k = 1.3807*10**(-23) # Boltzman Constant in Joules\n",
    "    \n",
    "def chi_square_red(x, y, yerr, modelfunc, p_opt):\n",
    "    numerator = (y - modelfunc(x, *p_opt)) ** 2\n",
    "    denominator = yerr ** 2\n",
    "    chi = sum(numerator / denominator)\n",
    "    chired = chi / (len(y) - len(p_opt))\n",
    "    return chired\n",
    "def fitting(function,xdata,ydata,  guess,sigma = 0):\n",
    "    if type(sigma) is int:\n",
    "        fit_opt, fit_cov = curve_fit(function,xdata,ydata, p0=guess)\n",
    "    else:\n",
    "        fit_opt, fit_cov = curve_fit(function,xdata,ydata, p0=guess, sigma = sigma, absolute_sigma = True)\n",
    "    return function(xdata,*fit_opt), fit_opt, fit_cov \n"
   ]
  },
  {
   "cell_type": "code",
   "execution_count": null,
   "metadata": {},
   "outputs": [],
   "source": [
    "thermo_data = np.loadtxt('thermo.csv', delimiter=',', usecols=(0,1), unpack=True)"
   ]
  },
  {
   "cell_type": "code",
   "execution_count": null,
   "metadata": {},
   "outputs": [],
   "source": [
    "plt.figure(figsize = (8,8))\n",
    "plt.scatter(thermo_data[0],thermo_data[1] )\n",
    "init = (-90,0.3)\n",
    "fit = fitting(Stinehart_Hart,thermo_data[0],thermo_data[1] ,guess =init)\n",
    "plt.plot(thermo_data[0], fit[0], c = 'r')\n",
    "plt.title('Hartman Relation Graph')\n",
    "plt.ylabel('Scale Reading')\n",
    "plt.xlabel('wavelength (nm)')"
   ]
  },
  {
   "cell_type": "code",
   "execution_count": null,
   "metadata": {},
   "outputs": [],
   "source": [
    "diode_data = np.loadtxt('diode.csv', delimiter=',', usecols=(0,1), unpack=True)"
   ]
  },
  {
   "cell_type": "code",
   "execution_count": null,
   "metadata": {},
   "outputs": [],
   "source": [
    "plt.figure(figsize = (8,8))\n",
    "plt.scatter(thermo_data[0],thermo_data[1] )\n",
    "init = (-90,0.3)\n",
    "fit = fitting(Stinehart_Hart,thermo_data[0],thermo_data[1] ,guess =init)\n",
    "plt.plot(thermo_data[0], fit[0], c = 'r')\n",
    "plt.title('Hartman Relation Graph')\n",
    "plt.ylabel('Scale Reading')\n",
    "plt.xlabel('wavelength (nm)')"
   ]
  }
 ],
 "metadata": {
  "kernelspec": {
   "display_name": "Python 3",
   "language": "python",
   "name": "python3"
  },
  "language_info": {
   "codemirror_mode": {
    "name": "ipython",
    "version": 3
   },
   "file_extension": ".py",
   "mimetype": "text/x-python",
   "name": "python",
   "nbconvert_exporter": "python",
   "pygments_lexer": "ipython3",
   "version": "3.7.1"
  },
  "varInspector": {
   "cols": {
    "lenName": 16,
    "lenType": 16,
    "lenVar": 40
   },
   "kernels_config": {
    "python": {
     "delete_cmd_postfix": "",
     "delete_cmd_prefix": "del ",
     "library": "var_list.py",
     "varRefreshCmd": "print(var_dic_list())"
    },
    "r": {
     "delete_cmd_postfix": ") ",
     "delete_cmd_prefix": "rm(",
     "library": "var_list.r",
     "varRefreshCmd": "cat(var_dic_list()) "
    }
   },
   "types_to_exclude": [
    "module",
    "function",
    "builtin_function_or_method",
    "instance",
    "_Feature"
   ],
   "window_display": false
  }
 },
 "nbformat": 4,
 "nbformat_minor": 2
}
