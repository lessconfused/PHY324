{
 "cells": [
  {
   "cell_type": "code",
   "execution_count": 31,
   "metadata": {
    "ExecuteTime": {
     "end_time": "2019-01-21T02:16:22.222801Z",
     "start_time": "2019-01-21T02:16:22.205359Z"
    }
   },
   "outputs": [],
   "source": [
    "# import packages\n",
    "import numpy as np\n",
    "import matplotlib.pyplot as plt\n",
    "from scipy.optimize import curve_fit\n",
    "import seaborn as sns\n",
    "sns.set()"
   ]
  },
  {
   "cell_type": "code",
   "execution_count": 50,
   "metadata": {
    "ExecuteTime": {
     "end_time": "2019-01-21T02:18:17.852713Z",
     "start_time": "2019-01-21T02:18:17.828290Z"
    }
   },
   "outputs": [],
   "source": [
    "def Steinhart_Fit(x,a,b,c,d):\n",
    "    return a+b*np.log(x)+c*np.log(x)**2+d*np.log(x)**3\n",
    "def Steinhart_Hart(x,a,b,c,d):\n",
    "    constant = -273.15\n",
    "    return 1/(a+b*np.log(x)+c*np.log(x)**2+d*np.log(x)**3) + constant\n",
    "def Shockley(x,I,t):\n",
    "    # fit for saturation current and temperature\n",
    "    q = 1.6*10**(-19)  # electric charge in Coloumbs\n",
    "    k = 1.3807*10**(-23) # Boltzman Constant in Joules\n",
    "    \n",
    "def chi_square_red(x, y, yerr, modelfunc, p_opt):\n",
    "    # Reduced Chi Squared Reading. It Outputs value for accuracy of Fit. Should be near 1\n",
    "    numerator = (y - modelfunc(x, *p_opt)) ** 2\n",
    "    denominator = yerr ** 2\n",
    "    chi = sum(numerator / denominator)\n",
    "    chired = chi / (len(y) - len(p_opt))\n",
    "    return chired\n",
    "def fitting(function,xdata,ydata,  guess,sigma = 0):\n",
    "    if type(sigma) is int:\n",
    "        fit_opt, fit_cov = curve_fit(function,xdata,ydata, p0=guess)\n",
    "    else:\n",
    "        fit_opt, fit_cov = curve_fit(function,xdata,ydata, p0=guess, sigma = sigma, absolute_sigma = True)\n",
    "    return function(np.linspace(np.min(xdata), np.max(xdata),20),*fit_opt), fit_opt, fit_cov \n"
   ]
  },
  {
   "cell_type": "code",
   "execution_count": 51,
   "metadata": {
    "ExecuteTime": {
     "end_time": "2019-01-21T02:18:18.283608Z",
     "start_time": "2019-01-21T02:18:18.277667Z"
    },
    "scrolled": false
   },
   "outputs": [],
   "source": [
    "## Load in Thermistor Data. First Column in Temperature in C, then 3 resistance readings in Ohms\n",
    "thermo_data = np.loadtxt('thermistor.csv', delimiter=',', usecols=(0,1,2,3), unpack=True)"
   ]
  },
  {
   "cell_type": "code",
   "execution_count": 52,
   "metadata": {
    "ExecuteTime": {
     "end_time": "2019-01-21T02:18:18.658901Z",
     "start_time": "2019-01-21T02:18:18.648911Z"
    }
   },
   "outputs": [],
   "source": [
    "### Data Manipulation \n",
    "temp = thermo_data[0]+273.15  # Convert to Kelvin\n",
    "resist = np.mean(thermo_data[1:3], 0)   # average each 3 resistance values"
   ]
  },
  {
   "cell_type": "code",
   "execution_count": 97,
   "metadata": {
    "ExecuteTime": {
     "end_time": "2019-01-21T02:33:03.204579Z",
     "start_time": "2019-01-21T02:33:03.191715Z"
    }
   },
   "outputs": [],
   "source": [
    "yerr = np.repeat(1/10000,len(temp))\n",
    "xerr = np.repeat(0.01, len(resist))"
   ]
  },
  {
   "cell_type": "code",
   "execution_count": 98,
   "metadata": {
    "ExecuteTime": {
     "end_time": "2019-01-21T02:33:03.792516Z",
     "start_time": "2019-01-21T02:33:03.562658Z"
    },
    "scrolled": false
   },
   "outputs": [
    {
     "data": {
      "text/plain": [
       "Text(0, 0.5, ' Inverse Temperature (K)')"
      ]
     },
     "execution_count": 98,
     "metadata": {},
     "output_type": "execute_result"
    },
    {
     "data": {
      "image/png": "[encoded data removed]",
      "text/plain": [
       "<Figure size 576x576 with 1 Axes>"
      ]
     },
     "metadata": {},
     "output_type": "display_data"
    }
   ],
   "source": [
    "plt.figure(figsize = (8,8))\n",
    "plt.scatter(resist, 1/temp) \n",
    "init = (3.4*10**-3, 2*10**-4, 0.79*10**-4, 6.53*10**-5)\n",
    "fit = fitting(Steinhart_Fit,resist,1/temp,guess =init, sigma = yerr)\n",
    "plt.plot(np.linspace(np.min(resist), np.max(resist),20),fit[0], c = 'r')\n",
    "plt.errorbar(resist, 1/temp, yerr=yerr, xerr=xerr, fmt='o', ecolor='g', capthick=2)\n",
    "plt.ylim(0,0.005)\n",
    "plt.title('Stinehart Relation Graph')\n",
    "plt.xlabel(r'Resistance $\\Omega$')\n",
    "plt.ylabel(' Inverse Temperature (K)')\n",
    "\n"
   ]
  },
  {
   "cell_type": "code",
   "execution_count": 100,
   "metadata": {
    "ExecuteTime": {
     "end_time": "2019-01-21T02:33:11.364114Z",
     "start_time": "2019-01-21T02:33:11.358787Z"
    }
   },
   "outputs": [
    {
     "name": "stdout",
     "output_type": "stream",
     "text": [
      "Coefficents  [ 3.37129812e-03  2.55966569e-04 -4.33894347e-05 -2.35974889e-05]\n",
      "errors [8.29603933e-05 3.98600943e-05 4.42951990e-05 1.40177573e-05]\n",
      "0.7447921769485337\n"
     ]
    }
   ],
   "source": [
    "perr = np.sqrt(np.diag(fit[2]))\n",
    "print('Coefficents ', fit[1] )\n",
    "print('errors', perr )\n",
    "print(chi_square_red(resist,1/temp, yerr,Steinhart_Fit, fit[1]))"
   ]
  },
  {
   "cell_type": "code",
   "execution_count": 73,
   "metadata": {
    "ExecuteTime": {
     "end_time": "2019-01-21T02:21:45.185370Z",
     "start_time": "2019-01-21T02:21:43.265631Z"
    },
    "scrolled": true
   },
   "outputs": [
    {
     "name": "stdout",
     "output_type": "stream",
     "text": [
      "What Did the Ohmmeter Say? 2.0\n",
      "Your Temperature 10.94 C!\n"
     ]
    }
   ],
   "source": [
    "resistance = float(input(\"What Did the Ohmmeter Say? \"))\n",
    "temp_val = Steinhart_Hart(resistance, *fit[1])\n",
    "print('Your Temperature ' + np.str(np.round(temp_val,3)) + ' C!')"
   ]
  },
  {
   "cell_type": "markdown",
   "metadata": {},
   "source": [
    "### DIODE CODE"
   ]
  },
  {
   "cell_type": "code",
   "execution_count": 16,
   "metadata": {
    "ExecuteTime": {
     "end_time": "2019-01-21T00:25:36.763702Z",
     "start_time": "2019-01-21T00:25:36.754927Z"
    }
   },
   "outputs": [],
   "source": [
    "diode_data = np.loadtxt('forward_diode.csv', delimiter=',', usecols=(0,1), unpack=True)"
   ]
  },
  {
   "cell_type": "code",
   "execution_count": 17,
   "metadata": {
    "ExecuteTime": {
     "end_time": "2019-01-21T00:25:37.342030Z",
     "start_time": "2019-01-21T00:25:37.334553Z"
    }
   },
   "outputs": [],
   "source": [
    "current = diode_data[0]/1000 # convert from milli to normal\n",
    "voltage = diode_data[1]\n",
    "yerr = np.repeat(0.5/1000,len(current))"
   ]
  },
  {
   "cell_type": "code",
   "execution_count": 18,
   "metadata": {
    "ExecuteTime": {
     "end_time": "2019-01-21T00:25:37.747603Z",
     "start_time": "2019-01-21T00:25:37.738448Z"
    }
   },
   "outputs": [],
   "source": [
    "def Shockley_Diode(V,a,b):\n",
    "    charge = 0.16*10**-19\n",
    "    return a*np.exp(charge*V/b)"
   ]
  },
  {
   "cell_type": "code",
   "execution_count": 19,
   "metadata": {
    "ExecuteTime": {
     "end_time": "2019-01-21T00:25:38.408757Z",
     "start_time": "2019-01-21T00:25:38.182859Z"
    }
   },
   "outputs": [
    {
     "data": {
      "text/plain": [
       "Text(0.5, 0, 'Voltage')"
      ]
     },
     "execution_count": 19,
     "metadata": {},
     "output_type": "execute_result"
    },
    {
     "data": {
      "image/png": "[encoded data removed]",
      "text/plain": [
       "<Figure size 576x576 with 1 Axes>"
      ]
     },
     "metadata": {
      "needs_background": "light"
     },
     "output_type": "display_data"
    }
   ],
   "source": [
    "plt.figure(figsize = (8,8))\n",
    "plt.scatter(voltage,current)\n",
    "init = (100, 10*10**-19)\n",
    "fit = fitting(Shockley_Diode,voltage,current,guess =init, sigma = yerr)\n",
    "plt.plot(np.linspace(np.min(voltage), np.max(voltage),20), fit[0], c = 'r')\n",
    "plt.title('Shockley Relation Graph')\n",
    "plt.ylabel('Current')\n",
    "plt.xlabel('Voltage')"
   ]
  },
  {
   "cell_type": "code",
   "execution_count": 22,
   "metadata": {
    "ExecuteTime": {
     "end_time": "2019-01-21T00:27:15.646604Z",
     "start_time": "2019-01-21T00:27:15.628962Z"
    }
   },
   "outputs": [
    {
     "name": "stdout",
     "output_type": "stream",
     "text": [
      "Saturation 3.0822542965183214e-08\n",
      "Boltzman* T 8.380338267670168e-22\n",
      "errors [1.65365052e-09 2.93401191e-24]\n",
      "13.792515628026859\n"
     ]
    }
   ],
   "source": [
    "perr = np.sqrt(np.diag(fit[2]))\n",
    "print('Saturation', fit[1][0] )\n",
    "print('Boltzman* T', fit[1][1])\n",
    "print('errors', perr )\n",
    "print(chi_square_red(voltage,current, yerr,Shockley_Diode, fit[1]))"
   ]
  },
  {
   "cell_type": "code",
   "execution_count": 3,
   "metadata": {
    "ExecuteTime": {
     "end_time": "2019-01-21T00:24:33.449411Z",
     "start_time": "2019-01-21T00:24:33.440875Z"
    }
   },
   "outputs": [],
   "source": [
    "backdiode_data = np.loadtxt('backward_diode.csv', delimiter=',', usecols=(0,1), unpack=True)"
   ]
  },
  {
   "cell_type": "code",
   "execution_count": 5,
   "metadata": {
    "ExecuteTime": {
     "end_time": "2019-01-21T00:24:40.643742Z",
     "start_time": "2019-01-21T00:24:40.630452Z"
    }
   },
   "outputs": [],
   "source": [
    "backcurrent = backdiode_data[0]/1000 # convert from milli to normal\n",
    "backvoltage = backdiode_data[1]\n",
    "backyerr = np.repeat(0.005/1000,len(backcurrent))"
   ]
  },
  {
   "cell_type": "code",
   "execution_count": 12,
   "metadata": {
    "ExecuteTime": {
     "end_time": "2019-01-21T00:25:14.948394Z",
     "start_time": "2019-01-21T00:25:14.674384Z"
    }
   },
   "outputs": [
    {
     "data": {
      "text/plain": [
       "Text(0.5, 0, 'Voltage')"
      ]
     },
     "execution_count": 12,
     "metadata": {},
     "output_type": "execute_result"
    },
    {
     "data": {
      "image/png": "[encoded data removed]",
      "text/plain": [
       "<Figure size 576x576 with 1 Axes>"
      ]
     },
     "metadata": {
      "needs_background": "light"
     },
     "output_type": "display_data"
    }
   ],
   "source": [
    "plt.figure(figsize = (8,8))\n",
    "plt.scatter(backvoltage,backcurrent)\n",
    "plt.ylim(-0.00005,0.00005)\n",
    "init = (.1, 10*10**-20)\n",
    "backfit = fitting(Shockley_Diode,backvoltage,backcurrent,guess =init, sigma = backyerr)\n",
    "plt.plot(np.linspace(np.min(backvoltage), np.max(backvoltage),20), backfit[0], c = 'r')\n",
    "plt.title('Shockley Relation Graph')\n",
    "plt.ylabel('Current')\n",
    "plt.xlabel('Voltage')"
   ]
  },
  {
   "cell_type": "code",
   "execution_count": 23,
   "metadata": {
    "ExecuteTime": {
     "end_time": "2019-01-21T00:27:46.906359Z",
     "start_time": "2019-01-21T00:27:46.888487Z"
    }
   },
   "outputs": [
    {
     "name": "stdout",
     "output_type": "stream",
     "text": [
      "Saturation 4.943993257984154e-06\n",
      "Boltzman* T 2.262846157231266e-19\n",
      "errors [1.67068569e-06 5.32081769e-20]\n",
      "0.14951295970713227\n"
     ]
    }
   ],
   "source": [
    "backperr = np.sqrt(np.diag(backfit[2]))\n",
    "print('Saturation', backfit[1][0] )\n",
    "print('Boltzman* T', backfit[1][1])\n",
    "print('errors', backperr )\n",
    "print(chi_square_red(backvoltage,backcurrent, backyerr,Shockley_Diode, backfit[1]))"
   ]
  },
  {
   "cell_type": "code",
   "execution_count": null,
   "metadata": {},
   "outputs": [],
   "source": []
  }
 ],
 "metadata": {
  "kernelspec": {
   "display_name": "Python 3",
   "language": "python",
   "name": "python3"
  },
  "language_info": {
   "codemirror_mode": {
    "name": "ipython",
    "version": 3
   },
   "file_extension": ".py",
   "mimetype": "text/x-python",
   "name": "python",
   "nbconvert_exporter": "python",
   "pygments_lexer": "ipython3",
   "version": "3.7.1"
  },
  "varInspector": {
   "cols": {
    "lenName": 16,
    "lenType": 16,
    "lenVar": 40
   },
   "kernels_config": {
    "python": {
     "delete_cmd_postfix": "",
     "delete_cmd_prefix": "del ",
     "library": "var_list.py",
     "varRefreshCmd": "print(var_dic_list())"
    },
    "r": {
     "delete_cmd_postfix": ") ",
     "delete_cmd_prefix": "rm(",
     "library": "var_list.r",
     "varRefreshCmd": "cat(var_dic_list()) "
    }
   },
   "types_to_exclude": [
    "module",
    "function",
    "builtin_function_or_method",
    "instance",
    "_Feature"
   ],
   "window_display": false
  }
 },
 "nbformat": 4,
 "nbformat_minor": 2
}
