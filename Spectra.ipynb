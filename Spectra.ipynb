{
 "cells": [
  {
   "cell_type": "code",
   "execution_count": 1,
   "metadata": {
    "ExecuteTime": {
     "end_time": "2019-01-16T04:59:35.143898Z",
     "start_time": "2019-01-16T04:59:34.630152Z"
    }
   },
   "outputs": [],
   "source": [
    "import numpy as np\n",
    "import matplotlib.pyplot as plt\n",
    "from scipy.optimize import curve_fit\n",
    "import seaborn as sns\n",
    "sns.set()"
   ]
  },
  {
   "cell_type": "code",
   "execution_count": 2,
   "metadata": {
    "ExecuteTime": {
     "end_time": "2019-01-16T04:59:35.161850Z",
     "start_time": "2019-01-16T04:59:35.155212Z"
    }
   },
   "outputs": [],
   "source": [
    "def inv_linear(x,a,b):\n",
    "    spec_constant = 283.2\n",
    "    return a/(x-spec_constant) + b\n",
    "def chi_square_red(x, y, yerr, modelfunc, p_opt):\n",
    "    numerator = (y - modelfunc(x, *p_opt)) ** 2\n",
    "    denominator = yerr ** 2\n",
    "    chi = sum(numerator / denominator)\n",
    "    chired = chi / (len(y) - len(p_opt))\n",
    "    return chired\n",
    "def fitting(function,xdata,ydata,  guess,sigma = 0):\n",
    "    if type(sigma) is int:\n",
    "        fit_opt, fit_cov = curve_fit(function,xdata,ydata, p0=guess)\n",
    "    else:\n",
    "        fit_opt, fit_cov = curve_fit(function,xdata,ydata, p0=guess, sigma = sigma, absolute_sigma = True)\n",
    "    return function(xdata,*fit_opt), fit_opt, fit_cov "
   ]
  },
  {
   "cell_type": "code",
   "execution_count": 3,
   "metadata": {
    "ExecuteTime": {
     "end_time": "2019-01-16T04:59:35.643584Z",
     "start_time": "2019-01-16T04:59:35.629837Z"
    }
   },
   "outputs": [],
   "source": [
    "helium_data = np.loadtxt('helium.csv', delimiter=',', usecols=(0,1), unpack=True)\n",
    "spec_constant = 283.2"
   ]
  },
  {
   "cell_type": "code",
   "execution_count": 27,
   "metadata": {
    "ExecuteTime": {
     "end_time": "2019-01-16T05:40:41.546619Z",
     "start_time": "2019-01-16T05:40:41.268490Z"
    }
   },
   "outputs": [
    {
     "data": {
      "text/plain": [
       "Text(0.5, 0, 'wavelength (nm)')"
      ]
     },
     "execution_count": 27,
     "metadata": {},
     "output_type": "execute_result"
    },
    {
     "data": {
      "image/png": "[encoded data removed]",
      "text/plain": [
       "<Figure size 576x576 with 1 Axes>"
      ]
     },
     "metadata": {
      "needs_background": "light"
     },
     "output_type": "display_data"
    }
   ],
   "source": [
    "plt.figure(figsize = (8,8))\n",
    "plt.scatter(helium_data[0],helium_data[1] )\n",
    "init = (-90,0.3)\n",
    "errors = np.repeat(0.4, len(helium_data[1]))\n",
    "fit = fitting(inv_linear,helium_data[0],helium_data[1] ,guess =init, sigma = errors)\n",
    "plt.plot(helium_data[0], fit[0], c = 'r')\n",
    "plt.errorbar(helium_data[0],helium_data[1], yerr = errors, ecolor='g', fmt='o', capthick=2)\n",
    "plt.title('Hartman Relation Graph', fontsize = 16)\n",
    "plt.ylabel('Scale Reading', fontsize = 14)\n",
    "plt.xlabel('wavelength (nm)', fontsize = 14)"
   ]
  },
  {
   "cell_type": "code",
   "execution_count": 28,
   "metadata": {
    "ExecuteTime": {
     "end_time": "2019-01-16T05:40:41.717264Z",
     "start_time": "2019-01-16T05:40:41.711290Z"
    }
   },
   "outputs": [
    {
     "name": "stdout",
     "output_type": "stream",
     "text": [
      "1.236885715169401\n"
     ]
    }
   ],
   "source": [
    "print(chi_square_red(helium_data[0],helium_data[1], errors, inv_linear, fit[1]))"
   ]
  },
  {
   "cell_type": "code",
   "execution_count": 5,
   "metadata": {
    "ExecuteTime": {
     "end_time": "2019-01-16T04:59:41.223824Z",
     "start_time": "2019-01-16T04:59:41.212892Z"
    }
   },
   "outputs": [],
   "source": [
    "def Hartman(specreading):\n",
    "    # Function which converts a spectrograph reading to a wavelength\n",
    "    # input is wavelength in nanometers\n",
    "    m = fit[1][0]\n",
    "    b = fit[1][1]\n",
    "    wavelength = m/(specreading - b) + spec_constant\n",
    "    return(wavelength)\n"
   ]
  },
  {
   "cell_type": "code",
   "execution_count": 11,
   "metadata": {
    "ExecuteTime": {
     "end_time": "2019-01-16T05:05:11.887345Z",
     "start_time": "2019-01-16T05:05:11.883294Z"
    }
   },
   "outputs": [],
   "source": [
    "def Error_Propagation(wavelengths, y_err):\n",
    "    m = fit[1][0]\n",
    "    b = fit[1][1]\n",
    "    spec_constant_err = 0.4\n",
    "    return np.sqrt(m**2/(wavelengths - b)**2 + spec_constant_err**2)"
   ]
  },
  {
   "cell_type": "code",
   "execution_count": 6,
   "metadata": {
    "ExecuteTime": {
     "end_time": "2019-01-16T04:59:44.136895Z",
     "start_time": "2019-01-16T04:59:41.958776Z"
    }
   },
   "outputs": [
    {
     "name": "stdout",
     "output_type": "stream",
     "text": [
      "What Did the Spectrograph Say? 1111\n",
      "Your wavelength is 284.69 nm!\n"
     ]
    }
   ],
   "source": [
    "specreading = float(input(\"What Did the Spectrograph Say? \"))\n",
    "wavelength = Hartman(specreading)\n",
    "print('Your wavelength is ' + np.str(np.round(wavelength,2)) + ' nm!')"
   ]
  },
  {
   "cell_type": "code",
   "execution_count": 7,
   "metadata": {
    "ExecuteTime": {
     "end_time": "2019-01-16T04:59:46.205434Z",
     "start_time": "2019-01-16T04:59:46.186643Z"
    }
   },
   "outputs": [],
   "source": [
    "mystery_data = np.loadtxt('mystery.csv', unpack=True)"
   ]
  },
  {
   "cell_type": "code",
   "execution_count": 18,
   "metadata": {
    "ExecuteTime": {
     "end_time": "2019-01-16T05:36:47.083889Z",
     "start_time": "2019-01-16T05:36:47.068288Z"
    }
   },
   "outputs": [
    {
     "name": "stdout",
     "output_type": "stream",
     "text": [
      "[728.34803824 683.09962463 639.93168745 605.17542813 599.62615351\n",
      " 582.97790329 529.01533945 515.86255575 490.21165759 455.28537344]\n",
      "[2.31226483 2.46159814 2.62411461 2.77210031 2.79734133 2.87599351\n",
      " 3.1654822  3.24535339 3.41361799 3.6736219 ]\n"
     ]
    }
   ],
   "source": [
    "wavelengths = Hartman(mystery_data)\n",
    "error = Error_Propagation(wavelengths, 0.1)\n",
    "print(wavelengths)\n",
    "print(error)\n"
   ]
  },
  {
   "cell_type": "code",
   "execution_count": null,
   "metadata": {},
   "outputs": [],
   "source": []
  }
 ],
 "metadata": {
  "kernelspec": {
   "display_name": "Python 3",
   "language": "python",
   "name": "python3"
  },
  "language_info": {
   "codemirror_mode": {
    "name": "ipython",
    "version": 3
   },
   "file_extension": ".py",
   "mimetype": "text/x-python",
   "name": "python",
   "nbconvert_exporter": "python",
   "pygments_lexer": "ipython3",
   "version": "3.7.1"
  },
  "varInspector": {
   "cols": {
    "lenName": 16,
    "lenType": 16,
    "lenVar": 40
   },
   "kernels_config": {
    "python": {
     "delete_cmd_postfix": "",
     "delete_cmd_prefix": "del ",
     "library": "var_list.py",
     "varRefreshCmd": "print(var_dic_list())"
    },
    "r": {
     "delete_cmd_postfix": ") ",
     "delete_cmd_prefix": "rm(",
     "library": "var_list.r",
     "varRefreshCmd": "cat(var_dic_list()) "
    }
   },
   "types_to_exclude": [
    "module",
    "function",
    "builtin_function_or_method",
    "instance",
    "_Feature"
   ],
   "window_display": false
  }
 },
 "nbformat": 4,
 "nbformat_minor": 2
}
