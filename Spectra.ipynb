{
 "cells": [
  {
   "cell_type": "code",
   "execution_count": 5,
   "metadata": {
    "ExecuteTime": {
     "end_time": "2019-01-15T03:33:43.632493Z",
     "start_time": "2019-01-15T03:33:43.147719Z"
    }
   },
   "outputs": [],
   "source": [
    "import numpy as np\n",
    "import matplotlib.pyplot as plt\n",
    "from scipy.optimize import curve_fit\n",
    "import seaborn as sns\n",
    "sns.set()"
   ]
  },
  {
   "cell_type": "code",
   "execution_count": 6,
   "metadata": {
    "ExecuteTime": {
     "end_time": "2019-01-15T03:33:44.124977Z",
     "start_time": "2019-01-15T03:33:44.111735Z"
    }
   },
   "outputs": [],
   "source": [
    "def inv_linear(x,a,b):\n",
    "    spec_constant = 283.2\n",
    "    return a/(x-spec_constant) + b\n",
    "def chi_square_red(x, y, yerr, modelfunc, p_opt):\n",
    "    numerator = (y - modelfunc(x, *p_opt)) ** 2\n",
    "    denominator = yerr ** 2\n",
    "    chi = sum(numerator / denominator)\n",
    "    chired = chi / (len(y) - len(p_opt))\n",
    "    return chired\n",
    "def fitting(function,xdata,ydata,  guess,sigma = 0):\n",
    "    if type(sigma) is int:\n",
    "        fit_opt, fit_cov = curve_fit(function,xdata,ydata, p0=guess)\n",
    "    else:\n",
    "        fit_opt, fit_cov = curve_fit(function,xdata,ydata, p0=guess, sigma = sigma, absolute_sigma = True)\n",
    "    return function(xdata,*fit_opt), fit_opt, fit_cov "
   ]
  },
  {
   "cell_type": "code",
   "execution_count": 7,
   "metadata": {
    "ExecuteTime": {
     "end_time": "2019-01-15T03:33:44.634268Z",
     "start_time": "2019-01-15T03:33:44.625716Z"
    }
   },
   "outputs": [],
   "source": [
    "helium_data = np.loadtxt('helium.csv', delimiter=',', usecols=(0,1), unpack=True)\n",
    "spec_constant = 283.2"
   ]
  },
  {
   "cell_type": "code",
   "execution_count": 8,
   "metadata": {
    "ExecuteTime": {
     "end_time": "2019-01-15T03:33:45.342048Z",
     "start_time": "2019-01-15T03:33:45.089715Z"
    }
   },
   "outputs": [
    {
     "data": {
      "text/plain": [
       "Text(0.5, 0, 'wavelength (nm)')"
      ]
     },
     "execution_count": 8,
     "metadata": {},
     "output_type": "execute_result"
    },
    {
     "data": {
      "image/png": "[encoded data removed]",
      "text/plain": [
       "<Figure size 576x576 with 1 Axes>"
      ]
     },
     "metadata": {
      "needs_background": "light"
     },
     "output_type": "display_data"
    }
   ],
   "source": [
    "plt.figure(figsize = (8,8))\n",
    "plt.scatter(helium_data[0],helium_data[1] )\n",
    "init = (-90,0.3)\n",
    "fit = fitting(inv_linear,helium_data[0],helium_data[1] ,guess =init)\n",
    "plt.plot(helium_data[0], fit[0], c = 'r')\n",
    "plt.title('Hartman Relation Graph')\n",
    "plt.ylabel('Scale Reading')\n",
    "plt.xlabel('wavelength (nm)')"
   ]
  },
  {
   "cell_type": "code",
   "execution_count": 9,
   "metadata": {
    "ExecuteTime": {
     "end_time": "2019-01-15T03:33:45.593714Z",
     "start_time": "2019-01-15T03:33:45.589298Z"
    }
   },
   "outputs": [],
   "source": [
    "def Hartman(specreading):\n",
    "    # Function which converts a spectrograph reading to a wavelength\n",
    "    # input is wavelength in nanometers\n",
    "    m = fit[1][0]\n",
    "    b = fit[1][1]\n",
    "    wavelength = m/(specreading - b) + spec_constant\n",
    "    return(wavelength)"
   ]
  },
  {
   "cell_type": "code",
   "execution_count": 11,
   "metadata": {
    "ExecuteTime": {
     "end_time": "2019-01-15T03:34:00.571285Z",
     "start_time": "2019-01-15T03:33:58.284746Z"
    }
   },
   "outputs": [
    {
     "name": "stdout",
     "output_type": "stream",
     "text": [
      "What Did the Spectrograph Say?  12\n",
      "Your wavelength is 462.96 nm!\n"
     ]
    }
   ],
   "source": [
    "specreading = float(input(\"What Did the Spectrograph Say? \"))\n",
    "wavelength = Hartman(specreading)\n",
    "print('Your wavelength is ' + np.str(np.round(wavelength,2)) + ' nm!')"
   ]
  },
  {
   "cell_type": "code",
   "execution_count": 12,
   "metadata": {
    "ExecuteTime": {
     "end_time": "2019-01-15T03:34:06.502092Z",
     "start_time": "2019-01-15T03:34:06.497282Z"
    }
   },
   "outputs": [],
   "source": [
    "mystery_data = np.loadtxt('mystery.csv', unpack=True)\n"
   ]
  },
  {
   "cell_type": "code",
   "execution_count": 14,
   "metadata": {
    "ExecuteTime": {
     "end_time": "2019-01-15T03:34:13.938880Z",
     "start_time": "2019-01-15T03:34:13.916638Z"
    }
   },
   "outputs": [
    {
     "name": "stdout",
     "output_type": "stream",
     "text": [
      "[array([728.34803937, 683.09962538, 639.9316879 , 605.17542838,\n",
      "       599.62615373, 582.97790343, 529.01533938, 515.86255563,\n",
      "       490.21165741, 455.2853732 ])]\n"
     ]
    }
   ],
   "source": [
    "wavelengths = []\n",
    "wavelengths.append(Hartman(mystery_data))\n",
    "print(wavelengths)"
   ]
  },
  {
   "cell_type": "code",
   "execution_count": null,
   "metadata": {},
   "outputs": [],
   "source": []
  }
 ],
 "metadata": {
  "kernelspec": {
   "display_name": "Python 3",
   "language": "python",
   "name": "python3"
  },
  "language_info": {
   "codemirror_mode": {
    "name": "ipython",
    "version": 3
   },
   "file_extension": ".py",
   "mimetype": "text/x-python",
   "name": "python",
   "nbconvert_exporter": "python",
   "pygments_lexer": "ipython3",
   "version": "3.7.1"
  },
  "varInspector": {
   "cols": {
    "lenName": 16,
    "lenType": 16,
    "lenVar": 40
   },
   "kernels_config": {
    "python": {
     "delete_cmd_postfix": "",
     "delete_cmd_prefix": "del ",
     "library": "var_list.py",
     "varRefreshCmd": "print(var_dic_list())"
    },
    "r": {
     "delete_cmd_postfix": ") ",
     "delete_cmd_prefix": "rm(",
     "library": "var_list.r",
     "varRefreshCmd": "cat(var_dic_list()) "
    }
   },
   "types_to_exclude": [
    "module",
    "function",
    "builtin_function_or_method",
    "instance",
    "_Feature"
   ],
   "window_display": false
  }
 },
 "nbformat": 4,
 "nbformat_minor": 2
}
